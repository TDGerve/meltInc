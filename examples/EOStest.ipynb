{
 "cells": [
  {
   "cell_type": "code",
   "execution_count": 26,
   "metadata": {},
   "outputs": [],
   "source": [
    "import petroPy.fO2 as fO2\n",
    "from scipy.constants import R\n",
    "import numpy as np\n",
    "import os\n",
    "\n",
    "# os.chdir('C:/users/thomas/desktop')"
   ]
  },
  {
   "cell_type": "code",
   "execution_count": 27,
   "metadata": {},
   "outputs": [],
   "source": [
    "t = 1200+273.15\n",
    "pkbar = 10"
   ]
  },
  {
   "cell_type": "code",
   "execution_count": 28,
   "metadata": {},
   "outputs": [
    {
     "name": "stderr",
     "output_type": "stream",
     "text": [
      "D:\\Dropbox\\python\\packages\\petroPy\\petroPy\\fO2\\fO2.py:126: UserWarning: Temperatures above 1420K present\n",
      "  w.warn('Temperatures above 1420K present')\n"
     ]
    },
    {
     "data": {
      "text/plain": [
       "-7.69387734085216"
      ]
     },
     "execution_count": 28,
     "metadata": {},
     "output_type": "execute_result"
    }
   ],
   "source": [
    "(fO2.QFM(t) + fO2.QFMpressure(t, 1e4)) / (R * t * np.log(10))"
   ]
  },
  {
   "cell_type": "code",
   "execution_count": null,
   "metadata": {},
   "outputs": [],
   "source": [
    "logfO2_Annenberg = -7.69393806929036\n",
    "muO2_Annenberg = -216992.903050055"
   ]
  }
 ],
 "metadata": {
  "interpreter": {
   "hash": "23a6b913c5c0dcb48130fb95bc8c7b084c5a812df45cbb14e417b737a9d4ee46"
  },
  "kernelspec": {
   "display_name": "Python 3.8.5 64-bit ('base': conda)",
   "language": "python",
   "name": "python3"
  },
  "language_info": {
   "codemirror_mode": {
    "name": "ipython",
    "version": 3
   },
   "file_extension": ".py",
   "mimetype": "text/x-python",
   "name": "python",
   "nbconvert_exporter": "python",
   "pygments_lexer": "ipython3",
   "version": "3.8.12"
  },
  "orig_nbformat": 4
 },
 "nbformat": 4,
 "nbformat_minor": 2
}
